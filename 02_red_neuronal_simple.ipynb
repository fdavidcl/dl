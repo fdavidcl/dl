{
 "cells": [
  {
   "cell_type": "markdown",
   "metadata": {},
   "source": [
    "# Construyendo una red neuronal simple"
   ]
  },
  {
   "cell_type": "markdown",
   "metadata": {},
   "source": [
    "## ¿Qué es una red neuronal?\n",
    "\n",
    "Vista de forma matemática, una red neuronal es una composición de funciones relativamente sencillas, con una serie de parámetros ajustables. La idea es _entrenar_ dichos parámetros para que el resultado de aplicarle la red neuronal a unos datos determinados sea el que buscamos. Por ejemplo, podemos entrenar redes para distinguir imágenes de perros y de gatos (clasificación), para obtener un hash binario de un documento de texto (aprendizaje de representaciones), para convertir fotografías en pinturas (_transfer learning_)...\n",
    "\n",
    "En particular, una red tiene la siguiente forma:\n",
    "\n",
    "$$f^{\\theta}=f_n^{\\theta} \\circ \\dots f_2^{\\theta} \\circ f_1^{\\theta}\\mbox{, donde }f_i^{\\theta}(x)=s_i(W_i y_{i-1} + b_i)=y_i,~ W_i\\in\\mathbb{R}^{n\\times m},b_i\\in \\mathbb R^n$$"
   ]
  },
  {
   "cell_type": "code",
   "execution_count": 1,
   "metadata": {},
   "outputs": [],
   "source": [
    "import tensorflow as tf\n",
    "from tensorflow.keras.layers import Dense, Flatten\n",
    "from tensorflow.keras.models import Sequential\n",
    "from tensorflow.keras.datasets import mnist\n",
    "from tensorflow.keras.utils import to_categorical"
   ]
  },
  {
   "cell_type": "code",
   "execution_count": 2,
   "metadata": {},
   "outputs": [
    {
     "name": "stdout",
     "output_type": "stream",
     "text": [
      "WARNING:tensorflow:From /usr/lib/python3.7/site-packages/tensorflow/python/ops/resource_variable_ops.py:435: colocate_with (from tensorflow.python.framework.ops) is deprecated and will be removed in a future version.\n",
      "Instructions for updating:\n",
      "Colocations handled automatically by placer.\n"
     ]
    }
   ],
   "source": [
    "model = Sequential([\n",
    "    Flatten(input_shape = (28, 28)),\n",
    "    Dense(100),\n",
    "    Dense(10, activation = \"softmax\")\n",
    "])"
   ]
  },
  {
   "cell_type": "code",
   "execution_count": 3,
   "metadata": {},
   "outputs": [],
   "source": [
    "(x_train, y_train), (x_test, y_test) = mnist.load_data()"
   ]
  },
  {
   "cell_type": "code",
   "execution_count": 4,
   "metadata": {},
   "outputs": [],
   "source": [
    "y_expanded = to_categorical(y_train)\n",
    "model.compile(loss = \"categorical_crossentropy\", optimizer = \"rmsprop\")"
   ]
  },
  {
   "cell_type": "code",
   "execution_count": 5,
   "metadata": {},
   "outputs": [
    {
     "name": "stdout",
     "output_type": "stream",
     "text": [
      "WARNING:tensorflow:From /usr/lib/python3.7/site-packages/tensorflow/python/ops/math_ops.py:3066: to_int32 (from tensorflow.python.ops.math_ops) is deprecated and will be removed in a future version.\n",
      "Instructions for updating:\n",
      "Use tf.cast instead.\n",
      "Epoch 1/20\n",
      "60000/60000 [==============================] - 6s 96us/sample - loss: 12.4292\n",
      "Epoch 2/20\n",
      "60000/60000 [==============================] - 2s 37us/sample - loss: 11.6666\n",
      "Epoch 3/20\n",
      "60000/60000 [==============================] - 2s 38us/sample - loss: 11.6533\n",
      "Epoch 4/20\n",
      "60000/60000 [==============================] - 2s 38us/sample - loss: 11.6322\n",
      "Epoch 5/20\n",
      "60000/60000 [==============================] - 2s 38us/sample - loss: 11.6581\n",
      "Epoch 6/20\n",
      "60000/60000 [==============================] - 2s 38us/sample - loss: 11.5693\n",
      "Epoch 7/20\n",
      "60000/60000 [==============================] - 2s 39us/sample - loss: 11.3413\n",
      "Epoch 8/20\n",
      "60000/60000 [==============================] - 2s 38us/sample - loss: 10.2344\n",
      "Epoch 9/20\n",
      "60000/60000 [==============================] - 2s 39us/sample - loss: 10.1158\n",
      "Epoch 10/20\n",
      "60000/60000 [==============================] - 2s 39us/sample - loss: 10.1112\n",
      "Epoch 11/20\n",
      "60000/60000 [==============================] - 2s 39us/sample - loss: 10.0997\n",
      "Epoch 12/20\n",
      "60000/60000 [==============================] - 2s 39us/sample - loss: 10.0975\n",
      "Epoch 13/20\n",
      "60000/60000 [==============================] - 2s 40us/sample - loss: 10.0767\n",
      "Epoch 14/20\n",
      "60000/60000 [==============================] - 2s 40us/sample - loss: 10.0693\n",
      "Epoch 15/20\n",
      "60000/60000 [==============================] - 2s 40us/sample - loss: 10.0676\n",
      "Epoch 16/20\n",
      "60000/60000 [==============================] - 2s 40us/sample - loss: 10.0437\n",
      "Epoch 17/20\n",
      "60000/60000 [==============================] - 2s 40us/sample - loss: 10.0071\n",
      "Epoch 18/20\n",
      "60000/60000 [==============================] - 2s 41us/sample - loss: 10.0372\n",
      "Epoch 19/20\n",
      "60000/60000 [==============================] - 3s 42us/sample - loss: 10.0095\n",
      "Epoch 20/20\n",
      "60000/60000 [==============================] - 3s 42us/sample - loss: 10.0238\n"
     ]
    },
    {
     "data": {
      "text/plain": [
       "<tensorflow.python.keras.callbacks.History at 0x7f9149d4b710>"
      ]
     },
     "execution_count": 5,
     "metadata": {},
     "output_type": "execute_result"
    }
   ],
   "source": [
    "model.fit(x_train, y_expanded, epochs = 20)"
   ]
  },
  {
   "cell_type": "code",
   "execution_count": null,
   "metadata": {},
   "outputs": [],
   "source": []
  }
 ],
 "metadata": {
  "kernelspec": {
   "display_name": "Python 3",
   "language": "python",
   "name": "python3"
  },
  "language_info": {
   "codemirror_mode": {
    "name": "ipython",
    "version": 3
   },
   "file_extension": ".py",
   "mimetype": "text/x-python",
   "name": "python",
   "nbconvert_exporter": "python",
   "pygments_lexer": "ipython3",
   "version": "3.7.2"
  }
 },
 "nbformat": 4,
 "nbformat_minor": 2
}
