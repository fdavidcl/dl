{
 "cells": [
  {
   "cell_type": "markdown",
   "metadata": {},
   "source": [
    "# Construyendo una red neuronal simple"
   ]
  },
  {
   "cell_type": "markdown",
   "metadata": {},
   "source": [
    "## ¿Qué es una red neuronal?\n",
    "\n",
    "Vista de forma matemática, una red neuronal es una composición de funciones relativamente sencillas, con una serie de parámetros ajustables. La idea es _entrenar_ dichos parámetros para que el resultado de aplicarle la red neuronal a unos datos determinados sea el que buscamos. Por ejemplo, podemos entrenar redes para distinguir imágenes de perros y de gatos (clasificación), para obtener un hash binario de un documento de texto (aprendizaje de representaciones), para convertir fotografías en pinturas (_transfer learning_)...\n",
    "\n",
    "En particular, una red tiene la siguiente forma:\n",
    "\n",
    "$$f^{\\theta}=f_n^{\\theta} \\circ \\dots f_2^{\\theta} \\circ f_1^{\\theta}~,$$\n",
    "donde\n",
    "$$f_i^{\\theta}(x)=s_i(W_i x + b_i),~ W_i\\in\\mathbb{R}^{n\\times m},b_i\\in \\mathbb R^n$$\n",
    "y $s_i$ es una función _de activación_, generalmente o bien una función de tipo sigmoidal ($\\sigma, \\tanh$) o bien cercana a 0 en los negativos y cercana a la identidad en los positivos (ReLU, SELU). En ocasiones $s_i$ es la identidad.\n",
    "\n",
    "Si $f_i$ tiene la forma descrita arriba, se suele llamar _capa totalmente conectada_ o _densa_. Sin embargo, a veces podemos usar otras funciones en su lugar, que transformen los datos de una forma estática (sin parámetros, _non-trainable_) o con otros parámetros entrenables (_trainable_). Un ejemplo de las primeras sería la transformación que lleva matrices cuadradas $n\\times n$ en vectores de $\\mathbb R^{n^2}$. Un ejemplo de las segundas serían las [capas convolucionales](https://en.wikipedia.org/wiki/Convolutional_neural_network#Convolutional)."
   ]
  },
  {
   "cell_type": "markdown",
   "metadata": {},
   "source": [
    "## Definición de un modelo de red neuronal\n",
    "\n",
    "Antes de nada, vamos a cargar todos los módulos y funciones necesarias:"
   ]
  },
  {
   "cell_type": "code",
   "execution_count": 15,
   "metadata": {},
   "outputs": [],
   "source": [
    "import tensorflow as tf\n",
    "from tensorflow.keras.layers import Dense, Flatten\n",
    "from tensorflow.keras.models import Sequential\n",
    "from tensorflow.keras.utils import to_categorical\n",
    "import matplotlib.pyplot as plt"
   ]
  },
  {
   "cell_type": "markdown",
   "metadata": {},
   "source": [
    "Vamos a explorar un problema muy conocido: la clasificación de dígitos escritos a mano. Como datos de entrada, tendremos imágenes 28$\\times$28 que contendrán dígitos del 0 al 9 manuscritos. El objetivo es acertar a qué dígito corresponde la imagen. El siguiente código sirve para cargar los datos:"
   ]
  },
  {
   "cell_type": "code",
   "execution_count": 20,
   "metadata": {},
   "outputs": [],
   "source": [
    "from tensorflow.keras.datasets import mnist\n",
    "(x_train, y_train), (x_test, y_test) = mnist.load_data()\n",
    "\n",
    "# Normalización a [0, 1]\n",
    "x_train = x_train / 255.0\n",
    "x_test = x_test / 255.0"
   ]
  },
  {
   "cell_type": "code",
   "execution_count": 23,
   "metadata": {},
   "outputs": [
    {
     "data": {
      "image/png": "[encoded data removed]",
      "text/plain": [
       "<Figure size 432x288 with 8 Axes>"
      ]
     },
     "metadata": {
      "needs_background": "light"
     },
     "output_type": "display_data"
    }
   ],
   "source": [
    "row_size = 4\n",
    "fig, axs = plt.subplots(ncols=row_size, nrows=2)\n",
    "for i in range(row_size):\n",
    "    axs[0, i].imshow(x_train[i], cmap = \"Greys\")\n",
    "    axs[1, i].imshow(x_train[row_size + i], cmap = \"Greys\")"
   ]
  },
  {
   "cell_type": "markdown",
   "metadata": {},
   "source": [
    "Ahora, construimos nuestro modelo. En este caso y a modo de ejemplo, tomaremos como dato de entrada una imagen de tamaño 28$\\times$28, lo llevaremos a un vector de longitud $28\\cdot 28 = 784$, y a continuación lo pasaremos por dos capas densas, la primera de dimensión 100 y la segunda de dimensión 10. Esta última capa lleva una función de activación _softmax_, que convierte el vector 10-dimensional en una distribución de probabilidad discreta. De esta forma, la componente de mayor probabilidad se toma como _clase_ del dato que había a la entrada."
   ]
  },
  {
   "cell_type": "code",
   "execution_count": 24,
   "metadata": {},
   "outputs": [],
   "source": [
    "model = Sequential([\n",
    "    Flatten(input_shape = (28, 28)),\n",
    "    Dense(100, activation = \"relu\"),\n",
    "    Dense(10, activation = \"softmax\")\n",
    "])"
   ]
  },
  {
   "cell_type": "markdown",
   "metadata": {},
   "source": [
    "## ¿Cómo se entrena una red neuronal?\n",
    "\n",
    "Es necesario aplicar alguna estrategia para encontrar los parámetros $\\theta$ que mejor se adaptan a nuestro problema. El espacio de búsqueda, sin embargo, suele ser demasiado grande como para hacer una búsqueda exhaustiva o cualquier algoritmo exacto. Por ello, tenemos que recurrir a heurísticas que encuentren soluciones aceptables en un tiempo razonable. Actualmente hay dos vías principales:\n",
    "\n",
    "1. Descenso del gradiente (estocástico): la idea consiste en [evaluar puntualmente la derivada de la función objetivo](https://en.wikipedia.org/wiki/Backpropagation) (resultante de la composición entre la red neuronal y una _loss_, una métrica de error de la salida obtenida respecto de la deseada), respecto de los parámetros. Cada evaluación nos da la dirección de mayor pendiente, y podemos actualizar los parámetros avanzando \"un pasito\" en dicha dirección (en sentido de bajada) para minimizar el error. De forma iterativa, llegaremos a algún mínimo local. Este método supone una restricción: la función objetivo debe ser derivable (en la práctica, basta con que sea derivable casi por doquier).\n",
    "\n",
    "2. Algoritmos evolutivos (neuroevolución): en este caso, se utilizan algoritmos evolutivos como los genéticos para ajustar los parámetros. Se tendrá una población de soluciones y su medida de bondad o _fitness_ equivale a la cercanía entre las salidas que aportan y las deseadas o bien otra puntuación (p.ej. si la red neuronal está jugando a un juego).\n",
    "\n",
    "Generalmente se suele optar por la vía 1. Sin embargo, la opción 2 es muy utilizada en problemas de aprendizaje por refuerzo, donde la bondad no se mide con el ajuste a una salida prestablecida sino como una puntuación conseguida al realizar alguna acción."
   ]
  },
  {
   "cell_type": "markdown",
   "metadata": {},
   "source": [
    "## Entrenando nuestra red"
   ]
  },
  {
   "cell_type": "markdown",
   "metadata": {},
   "source": [
    "El paso anterior a entrenar el modelo con datos es compilarlo. Esto es necesario para configurar algunos parámetros de entrenamiento y preparar el modelo. Los principales parámetros que hay que establecer son la función objetivo a minimizar (_loss_) y la heurística de optimización (en este caso, RMSProp es una variante de descenso del gradiente estocástico o SGD):"
   ]
  },
  {
   "cell_type": "code",
   "execution_count": 26,
   "metadata": {},
   "outputs": [],
   "source": [
    "model.compile(loss = \"categorical_crossentropy\", optimizer = \"rmsprop\", metrics = [\"categorical_accuracy\"])"
   ]
  },
  {
   "cell_type": "markdown",
   "metadata": {},
   "source": [
    "Ya está todo listo para entrenar nuestra red. Para ello usamos `fit`, pasándole los datos de entrenamiento (para los cuales el modelo puede consultar la clase correcta). Es necesario usar `to_categorical` para pasar las clases de $\\{0,1,\\dots,9\\}$ a $\\{0,1\\}^{10}$:"
   ]
  },
  {
   "cell_type": "code",
   "execution_count": 27,
   "metadata": {},
   "outputs": [
    {
     "name": "stdout",
     "output_type": "stream",
     "text": [
      "Epoch 1/20\n",
      "60000/60000 [==============================] - 5s 77us/sample - loss: 0.2675 - categorical_accuracy: 0.9238\n",
      "Epoch 2/20\n",
      "60000/60000 [==============================] - 4s 69us/sample - loss: 0.1294 - categorical_accuracy: 0.9623\n",
      "Epoch 3/20\n",
      "60000/60000 [==============================] - 4s 70us/sample - loss: 0.0951 - categorical_accuracy: 0.9722\n",
      "Epoch 4/20\n",
      "60000/60000 [==============================] - 4s 72us/sample - loss: 0.0779 - categorical_accuracy: 0.9782\n",
      "Epoch 5/20\n",
      "60000/60000 [==============================] - 6s 94us/sample - loss: 0.0671 - categorical_accuracy: 0.9805\n",
      "Epoch 6/20\n",
      "60000/60000 [==============================] - 6s 101us/sample - loss: 0.0580 - categorical_accuracy: 0.9832\n",
      "Epoch 7/20\n",
      "60000/60000 [==============================] - 6s 93us/sample - loss: 0.0528 - categorical_accuracy: 0.9857\n",
      "Epoch 8/20\n",
      "60000/60000 [==============================] - 4s 63us/sample - loss: 0.0463 - categorical_accuracy: 0.9868\n",
      "Epoch 9/20\n",
      "60000/60000 [==============================] - 4s 63us/sample - loss: 0.0432 - categorical_accuracy: 0.9885\n",
      "Epoch 10/20\n",
      "60000/60000 [==============================] - 4s 63us/sample - loss: 0.0385 - categorical_accuracy: 0.9899\n",
      "Epoch 11/20\n",
      "60000/60000 [==============================] - 4s 64us/sample - loss: 0.0344 - categorical_accuracy: 0.9902\n",
      "Epoch 12/20\n",
      "60000/60000 [==============================] - 4s 63us/sample - loss: 0.0317 - categorical_accuracy: 0.9913\n",
      "Epoch 13/20\n",
      "60000/60000 [==============================] - 4s 62us/sample - loss: 0.0286 - categorical_accuracy: 0.9924\n",
      "Epoch 14/20\n",
      "60000/60000 [==============================] - 4s 63us/sample - loss: 0.0261 - categorical_accuracy: 0.9932\n",
      "Epoch 15/20\n",
      "60000/60000 [==============================] - 4s 63us/sample - loss: 0.0246 - categorical_accuracy: 0.9935\n",
      "Epoch 16/20\n",
      "60000/60000 [==============================] - 4s 73us/sample - loss: 0.0225 - categorical_accuracy: 0.9942\n",
      "Epoch 17/20\n",
      "60000/60000 [==============================] - 5s 81us/sample - loss: 0.0212 - categorical_accuracy: 0.9945\n",
      "Epoch 18/20\n",
      "60000/60000 [==============================] - 5s 79us/sample - loss: 0.0191 - categorical_accuracy: 0.9953\n",
      "Epoch 19/20\n",
      "60000/60000 [==============================] - 5s 79us/sample - loss: 0.0181 - categorical_accuracy: 0.9955\n",
      "Epoch 20/20\n",
      "60000/60000 [==============================] - 5s 76us/sample - loss: 0.0160 - categorical_accuracy: 0.9964\n"
     ]
    },
    {
     "data": {
      "text/plain": [
       "<tensorflow.python.keras.callbacks.History at 0x7f001c673048>"
      ]
     },
     "execution_count": 27,
     "metadata": {},
     "output_type": "execute_result"
    }
   ],
   "source": [
    "y_expanded = to_categorical(y_train)\n",
    "model.fit(x_train, y_expanded, epochs = 20)"
   ]
  },
  {
   "cell_type": "markdown",
   "metadata": {},
   "source": [
    "Para comprobar cómo de bueno es el modelo conseguido, podemos evaluarlo con nuevos ejemplos que el modelo no ha utilizado para el entrenamiento, los del subconjunto de _test_. La métrica que hemos indicado antes para compilar nos sirve ahora para obtener el acierto global del modelo sobre este conjunto:"
   ]
  },
  {
   "cell_type": "code",
   "execution_count": 33,
   "metadata": {},
   "outputs": [
    {
     "name": "stdout",
     "output_type": "stream",
     "text": [
      "Acierto del 97.34%\n"
     ]
    }
   ],
   "source": [
    "loss, accuracy = model.evaluate(x_test, to_categorical(y_test), verbose = 0)\n",
    "\n",
    "print(f\"Acierto del {round(100 * accuracy, 2)}%\")"
   ]
  },
  {
   "cell_type": "markdown",
   "metadata": {},
   "source": [
    "Observamos una muestra de los datos de test y la predicción de nuestra red:"
   ]
  },
  {
   "cell_type": "code",
   "execution_count": 49,
   "metadata": {},
   "outputs": [
    {
     "data": {
      "image/png": "[encoded data removed]",
      "text/plain": [
       "<Figure size 432x288 with 5 Axes>"
      ]
     },
     "metadata": {
      "needs_background": "light"
     },
     "output_type": "display_data"
    }
   ],
   "source": [
    "sample_start = 0\n",
    "sample_size = 5\n",
    "\n",
    "fig, axs = plt.subplots(ncols=sample_size, nrows=1)\n",
    "for i in range(sample_size):\n",
    "    axs[i].imshow(x_test[sample_start + i], cmap = \"Greys\")"
   ]
  },
  {
   "cell_type": "code",
   "execution_count": 50,
   "metadata": {},
   "outputs": [
    {
     "data": {
      "text/plain": [
       "array([7, 2, 1, 0, 4])"
      ]
     },
     "execution_count": 50,
     "metadata": {},
     "output_type": "execute_result"
    }
   ],
   "source": [
    "model.predict(x_test[sample_start:sample_size]).argmax(1)"
   ]
  }
 ],
 "metadata": {
  "kernelspec": {
   "display_name": "Python 3",
   "language": "python",
   "name": "python3"
  },
  "language_info": {
   "codemirror_mode": {
    "name": "ipython",
    "version": 3
   },
   "file_extension": ".py",
   "mimetype": "text/x-python",
   "name": "python",
   "nbconvert_exporter": "python",
   "pygments_lexer": "ipython3",
   "version": "3.7.2"
  }
 },
 "nbformat": 4,
 "nbformat_minor": 2
}
