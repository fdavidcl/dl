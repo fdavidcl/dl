{
 "cells": [
  {
   "cell_type": "markdown",
   "metadata": {},
   "source": [
    "# Operaciones con tensores\n",
    "\n",
    "A bajo nivel, lo que Tensorflow ofrece es una serie de operaciones numéricas que trabajan con _arrays_ multidimensionales, matrices de más de 2 dimensiones, también conocidas como \"tensores\" (no confundir con [el resto de tensores](https://en.wikipedia.org/wiki/Category:Tensors)).\n",
    "\n",
    "Esencialmente, los tensores son generalizaciones de las matrices con (potencialmente) más dimensiones.\n",
    "\n",
    "Tensorflow soporta dos estrategias de ejecución: temprana y en grafo. Para facilitar la comprensión y la visualización de resultados, en este tutorial usaremos ejecución temprana. La ejecución en grafo es más rápida porque permite a TensorFlow optimizar nuestro flujo de operaciones previamente a ejecutarlo."
   ]
  },
  {
   "cell_type": "code",
   "execution_count": 21,
   "metadata": {},
   "outputs": [],
   "source": [
    "import tensorflow as tf\n",
    "import matplotlib.pyplot as plt\n",
    "\n",
    "tf.enable_eager_execution()"
   ]
  },
  {
   "cell_type": "markdown",
   "metadata": {},
   "source": [
    "## Operaciones básicas"
   ]
  },
  {
   "cell_type": "markdown",
   "metadata": {},
   "source": [
    "La definición de tensores se puede hacer de varias formas. Para definirlos \"a mano\", usaremos `tf.constant` o `tf.Variable` y le pasaremos una lista, anidada con listas tantas veces como dimensiones queramos que tenga nuestro tensor:"
   ]
  },
  {
   "cell_type": "code",
   "execution_count": 4,
   "metadata": {},
   "outputs": [],
   "source": [
    "c = tf.constant([[1.0, 2.0],\n",
    "                 [2.0, 3.0]])"
   ]
  },
  {
   "cell_type": "markdown",
   "metadata": {},
   "source": [
    "Las operaciones implementadas en Tensorflow sobrecargan a los operadores matemáticos de Python. Esto nos permite trabajar de forma más intuitiva, por ejemplo, `x + y` suma los tensores `x` e `y`. El resto de operaciones estarán disponibles como métodos del módulo `tensorfloe`, que hemos renombrado `tf` al cargar: `tf.sin`, `tf.reduce_sum`, `tf.logical_or`..."
   ]
  },
  {
   "cell_type": "code",
   "execution_count": 22,
   "metadata": {},
   "outputs": [
    {
     "name": "stdout",
     "output_type": "stream",
     "text": [
      "tf.Tensor(\n",
      "[[  3.4365635  25.556225 ]\n",
      " [ 25.556225  114.51322  ]], shape=(2, 2), dtype=float32)\n"
     ]
    }
   ],
   "source": [
    "print((2 * c) * (tf.exp(c) - 1))"
   ]
  },
  {
   "cell_type": "markdown",
   "metadata": {},
   "source": [
    "**Para saber más**:\n",
    "    \n",
    "- [Documentación de `tf.math`](https://www.tensorflow.org/api_docs/python/tf/math)"
   ]
  },
  {
   "cell_type": "markdown",
   "metadata": {},
   "source": [
    "## Cálculo de derivadas y gradientes\n",
    "\n",
    "Tensorflow incluye un mecanismo de [diferenciación automática](https://en.wikipedia.org/wiki/Automatic_differentiation), que aprovecha la regla de la cadena para realizar los cómputos de los gradientes en varios pasos de una forma eficiente. Es un método de cálculo numérico pero **exacto**, no realiza aproximaciones. Tampoco es simbólico, es decir, nunca nos dará la función derivada de una función, solamente evaluaciones puntuales.\n",
    "\n",
    "Vamos a calcular puntualmente la derivada de algunas funciones. En este primer ejemplo, calcularemos la derivada del polinomio $f(x)=2x^2+5x+3$ en los puntos $x=0, 1, 2, 3$. Para ello definimos primero un tensor `x` con los puntos que queremos evaluar, y posteriormente con `GradientTape()` registramos los cálculos necesarios para computar el gradiente de `result` respecto de `x`."
   ]
  },
  {
   "cell_type": "code",
   "execution_count": 5,
   "metadata": {},
   "outputs": [],
   "source": [
    "x = tf.Variable([0.0, 1.0, 2.0, 3.0])"
   ]
  },
  {
   "cell_type": "code",
   "execution_count": 7,
   "metadata": {},
   "outputs": [
    {
     "name": "stdout",
     "output_type": "stream",
     "text": [
      "[ 5.  9. 13. 17.]\n"
     ]
    }
   ],
   "source": [
    "with tf.GradientTape() as tape:\n",
    "    two_x_squared = 2 * x * x\n",
    "    five_x = 5 * x\n",
    "    three = 3\n",
    "    result = two_x_squared + five_x + three\n",
    "    \n",
    "grad = tape.gradient(result, x)\n",
    "\n",
    "print(grad.numpy())"
   ]
  },
  {
   "cell_type": "markdown",
   "metadata": {},
   "source": [
    "En este segundo ejemplo, realizamos algo similar para la función exponencial, $\\exp(x)=e^x$. Sabemos que es su propia derivada, luego evaluarla en los puntos dados por $x$ debería dar simplemente la exponencial de esos puntos. Lo comprobamos:"
   ]
  },
  {
   "cell_type": "code",
   "execution_count": 8,
   "metadata": {},
   "outputs": [
    {
     "name": "stdout",
     "output_type": "stream",
     "text": [
      "[ 1.         2.7182817  7.389056  20.085537 ]\n"
     ]
    }
   ],
   "source": [
    "with tf.GradientTape() as tape:\n",
    "    exp_x = tf.exp(x)\n",
    "\n",
    "grad = tape.gradient(exp_x, x)\n",
    "\n",
    "print(grad.numpy())"
   ]
  },
  {
   "cell_type": "markdown",
   "metadata": {},
   "source": [
    "Usando esto, podemos definirnos una función que aproveche Tensorflow para calcular la derivada de una función en los puntos que queramos:"
   ]
  },
  {
   "cell_type": "code",
   "execution_count": 13,
   "metadata": {},
   "outputs": [],
   "source": [
    "def grad(f, x):\n",
    "    x = tf.Variable(x)\n",
    "    with tf.GradientTape() as t:\n",
    "        t.watch(x)\n",
    "        out = f(x)\n",
    "    return t.gradient(out, x).numpy()"
   ]
  },
  {
   "cell_type": "markdown",
   "metadata": {},
   "source": [
    "¡Ahora podemos incluso dibujar derivadas! Sustituye `tf.tanh` en el siguiente ejemplo por cualquier otra función matemática de Tensorflow, o tu propia función haciendo uso de los operadores que nos proporciona, y comprueba el resultado:"
   ]
  },
  {
   "cell_type": "code",
   "execution_count": 20,
   "metadata": {},
   "outputs": [
    {
     "data": {
      "text/plain": [
       "[<matplotlib.lines.Line2D at 0x7fa6b00cf780>]"
      ]
     },
     "execution_count": 20,
     "metadata": {},
     "output_type": "execute_result"
    },
    {
     "data": {
      "image/png": "[encoded data removed]",
      "text/plain": [
       "<Figure size 432x288 with 1 Axes>"
      ]
     },
     "metadata": {
      "needs_background": "light"
     },
     "output_type": "display_data"
    }
   ],
   "source": [
    "x = [t/10.0 for t in range(-50, 50)]\n",
    "dy = grad(tf.tanh, x)\n",
    "\n",
    "plt.plot(x, tf.tanh(x))\n",
    "plt.plot(x, dy)"
   ]
  },
  {
   "cell_type": "markdown",
   "metadata": {},
   "source": [
    "**Para saber más**:\n",
    "- [Automatic differentiation and gradient tape](https://www.tensorflow.org/tutorials/eager/automatic_differentiation)\n",
    "- [Documentación de `tf.GradientTape()`](https://www.tensorflow.org/api_docs/python/tf/GradientTape)\n"
   ]
  }
 ],
 "metadata": {
  "kernelspec": {
   "display_name": "Python 3",
   "language": "python",
   "name": "python3"
  },
  "language_info": {
   "codemirror_mode": {
    "name": "ipython",
    "version": 3
   },
   "file_extension": ".py",
   "mimetype": "text/x-python",
   "name": "python",
   "nbconvert_exporter": "python",
   "pygments_lexer": "ipython3",
   "version": "3.6.7"
  }
 },
 "nbformat": 4,
 "nbformat_minor": 2
}
