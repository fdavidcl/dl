{
 "cells": [
  {
   "cell_type": "code",
   "execution_count": null,
   "metadata": {},
   "outputs": [],
   "source": [
    "!python -m pip install -qr \"http://deivi.ch/dl/requirements.txt\""
   ]
  },
  {
   "cell_type": "markdown",
   "metadata": {},
   "source": [
    "## Clasificación"
   ]
  },
  {
   "cell_type": "code",
   "execution_count": null,
   "metadata": {},
   "outputs": [],
   "source": [
    "import matplotlib.pyplot as plt\n",
    "import tensorflow as tf\n",
    "\n",
    "(x_train, y_train), (x_test, y_test) = tf.keras.datasets.cifar10.load_data()"
   ]
  },
  {
   "cell_type": "code",
   "execution_count": null,
   "metadata": {},
   "outputs": [],
   "source": [
    "row_size = 4\n",
    "fig, axs = plt.subplots(ncols=row_size, nrows=2)\n",
    "for i in range(row_size):\n",
    "    axs[0, i].imshow(x_train[i])\n",
    "    axs[1, i].imshow(x_train[row_size + i])"
   ]
  },
  {
   "cell_type": "code",
   "execution_count": null,
   "metadata": {},
   "outputs": [],
   "source": [
    "def convnet(base_convnet_f, input_shape, nclasses = 10):\n",
    "    base_model = base_convnet_f(weights = 'imagenet', include_top = False, input_shape=input_shape)\n",
    "    x = base_model.output\n",
    "    x = tf.keras.layers.Flatten()(x)\n",
    "    x = tf.keras.layers.Dense(512, activation = 'relu')(x)\n",
    "    x = tf.keras.layers.Dense(nclasses, activation = 'softmax')(x)\n",
    "\n",
    "    model = tf.keras.models.Model(base_model.input, outputs = x)\n",
    "\n",
    "    for layer in base_model.layers:\n",
    "        layer.trainable = False\n",
    "\n",
    "    return model"
   ]
  },
  {
   "cell_type": "code",
   "execution_count": null,
   "metadata": {},
   "outputs": [],
   "source": [
    "model = convnet(tf.keras.applications.VGG16, x_train.shape[1:])"
   ]
  },
  {
   "cell_type": "code",
   "execution_count": null,
   "metadata": {},
   "outputs": [],
   "source": [
    "model.compile(\"rmsprop\", \"categorical_crossentropy\", metrics = [\"categorical_accuracy\"])"
   ]
  },
  {
   "cell_type": "code",
   "execution_count": null,
   "metadata": {},
   "outputs": [],
   "source": [
    "y_logits = tf.keras.utils.to_categorical(y_train)\n",
    "model.summary()\n",
    "hist = model.fit(x_train, y_logits, epochs = 5)"
   ]
  },
  {
   "cell_type": "code",
   "execution_count": null,
   "metadata": {},
   "outputs": [],
   "source": [
    "y_logits_test = tf.keras.utils.to_categorical(y_test)\n",
    "loss, acc = model.evaluate(x_test, y_logits_test)\n",
    "\n",
    "print(f\"Acierto: {round(100 * acc, 2)}%\")"
   ]
  },
  {
   "cell_type": "markdown",
   "metadata": {
    "tags": []
   },
   "source": [
    "## Clasificación (II)"
   ]
  },
  {
   "cell_type": "code",
   "execution_count": null,
   "metadata": {},
   "outputs": [],
   "source": [
    "from segmentation_models_pytorch.datasets import SimpleOxfordPetDataset\n",
    "root = \"pets\"\n",
    "SimpleOxfordPetDataset.download(root)"
   ]
  },
  {
   "cell_type": "code",
   "execution_count": null,
   "metadata": {},
   "outputs": [],
   "source": [
    "import os\n",
    "images_path = os.path.join(root, \"images\")\n",
    "annotations_path = os.path.join(root, \"annotations\")\n",
    "\n",
    "trainval = open(os.path.join(annotations_path, \"trainval.txt\")).readlines()\n",
    "test = open(os.path.join(annotations_path, \"test.txt\")).readlines()\n",
    "\n",
    "os.makedirs(os.path.join(images_path, \"train\", \"cats\"), exist_ok=True)\n",
    "os.makedirs(os.path.join(images_path, \"train\", \"dogs\"), exist_ok=True)\n",
    "os.makedirs(os.path.join(images_path, \"test\", \"cats\"), exist_ok=True)\n",
    "os.makedirs(os.path.join(images_path, \"test\", \"dogs\"), exist_ok=True)\n",
    "\n",
    "def classify_image(line, subset):\n",
    "    basename = line.split(\" \")[0]\n",
    "    species = line.split(\" \")[2]\n",
    "    subfolder = \"cats\" if species == \"1\" else \"dogs\"\n",
    "    oldpath = os.path.join(images_path, f\"{basename}.jpg\")\n",
    "    newpath = os.path.join(images_path, subset, subfolder, f\"{basename}.jpg\")\n",
    "    if os.path.isfile(oldpath):\n",
    "        os.rename(oldpath, newpath)\n",
    "\n",
    "for line in trainval:\n",
    "    classify_image(line, \"train\")\n",
    "\n",
    "for line in test:\n",
    "    classify_image(line, \"test\")"
   ]
  },
  {
   "cell_type": "code",
   "execution_count": null,
   "metadata": {},
   "outputs": [],
   "source": [
    "from tensorflow.keras.preprocessing.image import ImageDataGenerator\n",
    "\n",
    "generador_entrenamiento = ImageDataGenerator()\n",
    "datos_entrenamiento = generador_entrenamiento.flow_from_directory(os.path.join(images_path, \"train\"))\n",
    "generador_test = ImageDataGenerator()\n",
    "datos_test = generador_test.flow_from_directory(os.path.join(images_path, \"test\"), class_mode=None)\n",
    "algunas_imagenes = next(datos_test)"
   ]
  },
  {
   "cell_type": "code",
   "execution_count": null,
   "metadata": {},
   "outputs": [],
   "source": [
    "from matplotlib import pyplot as plt\n",
    "plt.imshow(algunas_imagenes[0]/255.)\n",
    "plt.axis('off')\n",
    "plt.show()\n",
    "plt.imshow(algunas_imagenes[1]/255.)\n",
    "plt.axis('off')\n",
    "plt.show()"
   ]
  },
  {
   "cell_type": "code",
   "execution_count": null,
   "metadata": {},
   "outputs": [],
   "source": [
    "from tensorflow.keras import applications\n",
    "inception = applications.InceptionV3(include_top=False, input_shape=(256, 256, 3))"
   ]
  },
  {
   "cell_type": "code",
   "execution_count": null,
   "metadata": {},
   "outputs": [],
   "source": [
    "from tensorflow.keras.layers import Flatten, Dense\n",
    "from tensorflow.keras.models import Sequential\n",
    "predictor = Sequential([\n",
    "    Flatten(), \n",
    "    Dense(128, activation=\"relu\"), \n",
    "    Dense(2, activation=\"softmax\")\n",
    "])\n",
    "modelo = Sequential([inception, predictor])\n",
    "modelo.compile(optimizer=\"adam\", loss=\"categorical_crossentropy\")"
   ]
  },
  {
   "cell_type": "code",
   "execution_count": null,
   "metadata": {},
   "outputs": [],
   "source": [
    "modelo.fit(datos_entrenamiento, epochs=50)"
   ]
  },
  {
   "cell_type": "code",
   "execution_count": null,
   "metadata": {},
   "outputs": [],
   "source": [
    "lote_test = next(datos_test)\n",
    "\n",
    "probs = modelo.predict(lote_test)\n",
    "import numpy as np\n",
    "clase = np.argmax(probs, -1)"
   ]
  },
  {
   "cell_type": "code",
   "execution_count": null,
   "metadata": {},
   "outputs": [],
   "source": [
    "mostrar_imagenes = 10\n",
    "\n",
    "for i in range(mostrar_imagenes):\n",
    "    plt.imshow(lote_test[i]/255.)\n",
    "    plt.axis('off')\n",
    "    plt.show()\n",
    "    print(\"Predicción:\", \"perro\" if clase[i] else \"gato\")"
   ]
  },
  {
   "cell_type": "markdown",
   "metadata": {},
   "source": [
    "## Segmentación\n",
    "https://github.com/qubvel/segmentation_models.pytorch/blob/master/examples/binary_segmentation_intro.ipynb"
   ]
  },
  {
   "cell_type": "code",
   "execution_count": null,
   "metadata": {},
   "outputs": [],
   "source": [
    "import os\n",
    "import torch\n",
    "import pytorch_lightning as pl\n",
    "import segmentation_models_pytorch as smp\n",
    "\n",
    "from pprint import pprint\n",
    "from torch.utils.data import DataLoader\n"
   ]
  },
  {
   "cell_type": "code",
   "execution_count": null,
   "metadata": {},
   "outputs": [],
   "source": [
    "train_dataset = SimpleOxfordPetDataset(root, \"train\")\n",
    "valid_dataset = SimpleOxfordPetDataset(root, \"valid\")\n",
    "test_dataset = SimpleOxfordPetDataset(root, \"test\")\n",
    "\n",
    "n_cpu = os.cpu_count()\n",
    "train_dataloader = DataLoader(train_dataset, batch_size=16, shuffle=True, num_workers=n_cpu)\n",
    "valid_dataloader = DataLoader(valid_dataset, batch_size=16, shuffle=False, num_workers=n_cpu)\n",
    "test_dataloader = DataLoader(test_dataset, batch_size=16, shuffle=False, num_workers=n_cpu)"
   ]
  },
  {
   "cell_type": "code",
   "execution_count": null,
   "metadata": {},
   "outputs": [],
   "source": [
    "class PetModel(pl.LightningModule):\n",
    "\n",
    "    def __init__(self, arch, encoder_name, in_channels, out_classes, **kwargs):\n",
    "        super().__init__()\n",
    "        self.model = smp.create_model(\n",
    "            arch, encoder_name=encoder_name, in_channels=in_channels, classes=out_classes, **kwargs\n",
    "        )\n",
    "\n",
    "        # preprocessing parameters for image\n",
    "        params = smp.encoders.get_preprocessing_params(encoder_name)\n",
    "        self.register_buffer(\"std\", torch.tensor(params[\"std\"]).view(1, 3, 1, 1))\n",
    "        self.register_buffer(\"mean\", torch.tensor(params[\"mean\"]).view(1, 3, 1, 1))\n",
    "\n",
    "        # for image segmentation dice loss could be the best first choice\n",
    "        self.loss_fn = smp.losses.DiceLoss(smp.losses.BINARY_MODE, from_logits=True)\n",
    "        self.last_outputs = []\n",
    "\n",
    "    def forward(self, image):\n",
    "        # normalize image here\n",
    "        image = (image - self.mean) / self.std\n",
    "        mask = self.model(image)\n",
    "        return mask\n",
    "\n",
    "    def shared_step(self, batch, stage):\n",
    "        image = batch[\"image\"]\n",
    "        mask = batch[\"mask\"]\n",
    "\n",
    "        # Comprobar condiciones: shapes de la imagen y la máscara, dimensiones divisibles por 32 (para\n",
    "        # que concuerden los encoders y decoders) y máscara con valores entre 0 y 1\n",
    "        assert image.ndim == 4\n",
    "        h, w = image.shape[2:]\n",
    "        assert h % 32 == 0 and w % 32 == 0\n",
    "        assert mask.ndim == 4\n",
    "        assert mask.max() <= 1.0 and mask.min() >= 0\n",
    "\n",
    "        # Salida de la red y cálculo del error\n",
    "        logits_mask = self.forward(image)\n",
    "        loss = self.loss_fn(logits_mask, mask)\n",
    "\n",
    "        # Convertimos la salida de la red en predicciones\n",
    "        prob_mask = logits_mask.sigmoid()\n",
    "        pred_mask = (prob_mask > 0.5).float()\n",
    "\n",
    "        # Calculamos TP, FP, FN y TN para posteriormente computar métricas\n",
    "        tp, fp, fn, tn = smp.metrics.get_stats(pred_mask.long(), mask.long(), mode=\"binary\")\n",
    "        output = {\n",
    "            \"loss\": loss,\n",
    "            \"tp\": tp,\n",
    "            \"fp\": fp,\n",
    "            \"fn\": fn,\n",
    "            \"tn\": tn,\n",
    "        }\n",
    "        self.last_outputs.append(output)\n",
    "        return output\n",
    "\n",
    "    def shared_epoch_end(self, stage):\n",
    "        # Juntar las métricas básicas\n",
    "        tp = torch.cat([x[\"tp\"] for x in self.last_outputs])\n",
    "        fp = torch.cat([x[\"fp\"] for x in self.last_outputs])\n",
    "        fn = torch.cat([x[\"fn\"] for x in self.last_outputs])\n",
    "        tn = torch.cat([x[\"tn\"] for x in self.last_outputs])\n",
    "\n",
    "        # Calcular IoU por imagen individual y luego promediado, y calcularlo\n",
    "        # sobre el total del conjunto de datos\n",
    "        per_image_iou = smp.metrics.iou_score(tp, fp, fn, tn, reduction=\"micro-imagewise\")\n",
    "        dataset_iou = smp.metrics.iou_score(tp, fp, fn, tn, reduction=\"micro\")\n",
    "\n",
    "        metrics = {\n",
    "            f\"{stage}_per_image_iou\": per_image_iou,\n",
    "            f\"{stage}_dataset_iou\": dataset_iou,\n",
    "        }\n",
    "        \n",
    "        self.log_dict(metrics, prog_bar=True)\n",
    "        self.last_outputs = []\n",
    "\n",
    "    def training_step(self, batch, batch_idx):\n",
    "        return self.shared_step(batch, \"train\")            \n",
    "\n",
    "    def on_training_epoch_end(self):\n",
    "        return self.shared_epoch_end(\"train\")\n",
    "\n",
    "    def validation_step(self, batch, batch_idx):\n",
    "        return self.shared_step(batch, \"valid\")\n",
    "\n",
    "    def on_validation_epoch_end(self):\n",
    "        return self.shared_epoch_end(\"valid\")\n",
    "\n",
    "    def test_step(self, batch, batch_idx):\n",
    "        return self.shared_step(batch, \"test\")  \n",
    "\n",
    "    def on_test_epoch_end(self):\n",
    "        return self.shared_epoch_end(\"test\")\n",
    "\n",
    "    def configure_optimizers(self):\n",
    "        return torch.optim.Adam(self.parameters(), lr=0.0001)"
   ]
  },
  {
   "cell_type": "code",
   "execution_count": null,
   "metadata": {},
   "outputs": [],
   "source": [
    "model = PetModel(\"Unet\", \"resnet34\", in_channels=3, out_classes=1)"
   ]
  },
  {
   "cell_type": "code",
   "execution_count": null,
   "metadata": {},
   "outputs": [],
   "source": [
    "trainer = pl.Trainer(\n",
    "    max_epochs=5,\n",
    ")\n",
    "\n",
    "trainer.fit(\n",
    "    model, \n",
    "    train_dataloaders=train_dataloader, \n",
    "    val_dataloaders=valid_dataloader,\n",
    ")"
   ]
  },
  {
   "cell_type": "code",
   "execution_count": null,
   "metadata": {},
   "outputs": [],
   "source": [
    "# run validation dataset\n",
    "valid_metrics = trainer.validate(model, dataloaders=valid_dataloader, verbose=False)\n",
    "pprint(valid_metrics)"
   ]
  },
  {
   "cell_type": "code",
   "execution_count": null,
   "metadata": {},
   "outputs": [],
   "source": [
    "# run test dataset\n",
    "test_metrics = trainer.test(model, dataloaders=test_dataloader, verbose=False)\n",
    "pprint(test_metrics)"
   ]
  },
  {
   "cell_type": "code",
   "execution_count": null,
   "metadata": {},
   "outputs": [],
   "source": [
    "batch = next(iter(test_dataloader))\n",
    "with torch.no_grad():\n",
    "    model.eval()\n",
    "    logits = model(batch[\"image\"])\n",
    "pr_masks = logits.sigmoid()\n",
    "\n",
    "for image, gt_mask, pr_mask in zip(batch[\"image\"], batch[\"mask\"], pr_masks):\n",
    "    plt.figure(figsize=(10, 5))\n",
    "\n",
    "    plt.subplot(1, 3, 1)\n",
    "    plt.imshow(image.numpy().transpose(1, 2, 0))  # convert CHW -> HWC\n",
    "    plt.title(\"Image\")\n",
    "    plt.axis(\"off\")\n",
    "\n",
    "    plt.subplot(1, 3, 2)\n",
    "    plt.imshow(gt_mask.numpy().squeeze()) # just squeeze classes dim, because we have only one class\n",
    "    plt.title(\"Ground truth\")\n",
    "    plt.axis(\"off\")\n",
    "\n",
    "    plt.subplot(1, 3, 3)\n",
    "    plt.imshow(pr_mask.numpy().squeeze()) # just squeeze classes dim, because we have only one class\n",
    "    plt.title(\"Prediction\")\n",
    "    plt.axis(\"off\")\n",
    "\n",
    "    plt.show()"
   ]
  }
 ],
 "metadata": {
  "kernelspec": {
   "display_name": "Python 3 (ipykernel)",
   "language": "python",
   "name": "python3"
  },
  "language_info": {
   "codemirror_mode": {
    "name": "ipython",
    "version": 3
   },
   "file_extension": ".py",
   "mimetype": "text/x-python",
   "name": "python",
   "nbconvert_exporter": "python",
   "pygments_lexer": "ipython3",
   "version": "3.10.10"
  },
  "vscode": {
   "interpreter": {
    "hash": "aa9be27e7833838d86b54e8b125cade47b9f08401e82ee675eade3f1e40ec420"
   }
  }
 },
 "nbformat": 4,
 "nbformat_minor": 4
}
