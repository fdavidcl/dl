{
 "cells": [
  {
   "cell_type": "markdown",
   "metadata": {},
   "source": [
    "# Tutorial de Deep Learning con Tensorflow y Keras\n",
    "\n",
    "![](tfk.webp)\n",
    "\n",
    "por [David Charte](https://david.quotient.space)\n",
    "\n",
    "---"
   ]
  },
  {
   "cell_type": "markdown",
   "metadata": {},
   "source": [
    "## ¡Hola!\n",
    "\n",
    "Estos tutoriales están disponibles en\n",
    "\n",
    "## [github.com/fdavidcl/keras-tutorial](https://github.com/fdavidcl/keras-tutorial)\n",
    "\n",
    "Para visualizarlos, conviene que uses **Jupyter** (`jupyter notebook` o `jupyter lab`). Si tienes Docker, lo más rápido es:\n",
    "\n",
    "~~~\n",
    "docker run --rm -p 8888:8888 -v \"$(pwd)\":/home/jovyan/work \\\n",
    "  -e JUPYTER_ENABLE_LAB=1 -e JUPYTER_TOKEN=libreim jupyter/tensorflow-notebook\n",
    "~~~\n",
    "\n",
    "---"
   ]
  },
  {
   "cell_type": "markdown",
   "metadata": {},
   "source": [
    "## Hace poco...\n",
    "\n",
    "- Se anunció **Tensorflow 2 alpha** (`pip install tensorflow==2.0.0-alpha0`)\n",
    "\n",
    "## Y el pasado miércoles 27...\n",
    "\n",
    "- Keras cumplió **4 años**\n",
    "\n",
    "- Hinton, Bengio y LeCun fueron premiados con el **Turing Award** por sus desarrollos en redes neuronales artificiales\n",
    "\n",
    "---\n"
   ]
  },
  {
   "cell_type": "markdown",
   "metadata": {},
   "source": [
    "![](https://i.creativecommons.org/l/by-sa/4.0/80x15.png)  \n",
    "[![](https://libreim.github.io/assets/images/logo.png)](https://libreim.github.io)"
   ]
  }
 ],
 "metadata": {
  "kernelspec": {
   "display_name": "Python 3",
   "language": "python",
   "name": "python3"
  },
  "language_info": {
   "codemirror_mode": {
    "name": "ipython",
    "version": 3
   },
   "file_extension": ".py",
   "mimetype": "text/x-python",
   "name": "python",
   "nbconvert_exporter": "python",
   "pygments_lexer": "ipython3",
   "version": "3.7.2"
  }
 },
 "nbformat": 4,
 "nbformat_minor": 2
}
